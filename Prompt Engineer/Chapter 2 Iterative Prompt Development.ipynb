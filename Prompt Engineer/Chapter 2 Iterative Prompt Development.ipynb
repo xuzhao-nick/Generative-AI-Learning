{
 "cells": [
  {
   "cell_type": "markdown",
   "id": "d7d21198",
   "metadata": {},
   "source": [
    "# Iterative Prompt Development\n",
    "In this lesson, you'll iteratively analyze and refine your prompts to generate marketing copy from a product fact sheet.\n",
    "## Setup"
   ]
  },
  {
   "cell_type": "code",
   "execution_count": 3,
   "id": "cb749f62",
   "metadata": {},
   "outputs": [],
   "source": [
    "import openai\n",
    "import os\n",
    "from dotenv import load_dotenv, find_dotenv\n",
    "_ = load_dotenv(find_dotenv()) # read local .env file\n",
    "\n",
    "openai.api_key = os.getenv('OPENAI_API_KEY')"
   ]
  },
  {
   "cell_type": "code",
   "execution_count": 4,
   "id": "d43c4885",
   "metadata": {},
   "outputs": [],
   "source": [
    "def get_completion(prompt, model = \"gpt-3.5-turbo\"):\n",
    "    messages = [{\"role\": \"user\", \"content\": prompt}]\n",
    "    response = openai.ChatCompletion.create(\n",
    "        model = model,\n",
    "        messages = messages,\n",
    "        temperature = 0, # this is the degreeof randomness of the model's output\n",
    "    )\n",
    "    return response.choices[0].message[\"content\"]"
   ]
  },
  {
   "cell_type": "markdown",
   "id": "c516d01a",
   "metadata": {},
   "source": [
    "## Generate a marketing product description from a product fact sheet"
   ]
  },
  {
   "cell_type": "code",
   "execution_count": 28,
   "id": "39f8ec24",
   "metadata": {},
   "outputs": [],
   "source": [
    "fact_sheet_chair = \"\"\"\n",
    "OVERVIEW\n",
    "- Part of a beautiful family of mid-century, inspired office furniture,\n",
    "including filling cabinets, desks, bookcases, meeting tables, and more.\n",
    "- Several options of shell color and base finishes.\n",
    "- Available with plastic back and front upholstery (SWC-100)\n",
    "or full upholtery (SWC-110) in 10 fabric and 6 leather options.\n",
    "- Base finish options are: stainless steel, matte black,\n",
    "gloss white, or chrome.\n",
    "- Chair is available with or without armrests.\n",
    "- Suitable for home or business settings.\n",
    "- Qualified for contract use.\n",
    "\n",
    "CONSTRUCTION\n",
    "- 5-wheel plastic coated alumium base.\n",
    "- Pneumatic chair adjust for easy raise/lower action.\n",
    "\n",
    "DIMENSIONS\n",
    "- WIDTH 53 CM | 20.87\"\n",
    "- DEPTH 51 CM | 20.08\"\n",
    "- HEIGHT 80 CM | 31.50\"\n",
    "- SEAT HEIGHT 44 CM | 17.32\"\n",
    "- SEAT DEPTH 41 CM | 16.14\"\n",
    "\n",
    "OPTIONS\n",
    "- Soft or hard-floor caster options.\n",
    "- Two choice of seat foam densities:\n",
    "medium (1.8 lb/ft3) or high (2.8 lb/ft3)\n",
    "- Armless or 8 position PU armrests\n",
    "\n",
    "MATERIALS\n",
    "SHELL BASE GLIDER\n",
    "- Cast Aluminum with modified nylon PA6/PA66 coating.\n",
    "- Shell thickness: 10 mm.\n",
    "SEAT\n",
    "- HD36 foam\n",
    "\n",
    "COUNTRY OF ORIGIN\n",
    "- Italy\n",
    "\"\"\"\n"
   ]
  },
  {
   "cell_type": "code",
   "execution_count": 8,
   "id": "c021198b",
   "metadata": {},
   "outputs": [
    {
     "name": "stdout",
     "output_type": "stream",
     "text": [
      "Introducing the SWC-100 Mid-Century Inspired Office Chair, a stunning addition to our beautiful family of mid-century inspired office furniture. This chair is part of a collection that includes filling cabinets, desks, bookcases, meeting tables, and more, allowing you to create a cohesive and stylish workspace.\n",
      "\n",
      "One of the standout features of the SWC-100 is the variety of customization options available. You can choose from several options of shell color and base finishes, ensuring that the chair perfectly complements your existing decor. Additionally, you have the choice between plastic back and front upholstery or full upholstery in a range of 10 fabric and 6 leather options. The base finish options include stainless steel, matte black, gloss white, or chrome. With these options, you can truly make the SWC-100 your own.\n",
      "\n",
      "Comfort is a top priority with the SWC-100. The chair is available with or without armrests, allowing you to choose the configuration that suits your needs. The 5-wheel plastic coated aluminum base provides stability and mobility, while the pneumatic chair adjust allows for easy raise and lower action, ensuring that you can find the perfect height for your comfort.\n",
      "\n",
      "The dimensions of the SWC-100 are as follows: width 53 cm (20.87\"), depth 51 cm (20.08\"), height 80 cm (31.50\"), seat height 44 cm (17.32\"), and seat depth 41 cm (16.14\"). These dimensions make the chair suitable for both home and business settings, and it is qualified for contract use.\n",
      "\n",
      "We understand that every workspace is unique, which is why we offer a range of options for the SWC-100. You can choose between soft or hard-floor caster options, allowing the chair to glide smoothly on any surface. Additionally, you have the choice of two seat foam densities: medium (1.8 lb/ft3) or high (2.8 lb/ft3). Finally, you can opt for armless or 8 position PU armrests, providing additional comfort and support.\n",
      "\n",
      "The materials used in the construction of the SWC-100 are of the highest quality. The shell base glider is made of cast aluminum with a modified nylon PA6/PA66 coating, ensuring durability and longevity. The shell thickness is 10 mm, providing a sturdy and reliable structure. The seat is made of HD36 foam, offering exceptional comfort for extended periods of sitting.\n",
      "\n",
      "The SWC-100 Mid-Century Inspired Office Chair is proudly made in Italy, a country known for its craftsmanship and attention to detail. With its timeless design and customizable options, this chair is the perfect addition to any workspace. Upgrade your office furniture with the SWC-100 and experience the perfect blend of style and comfort.\n"
     ]
    }
   ],
   "source": [
    "prompt = f\"\"\"\n",
    "Your task is to help a marketing team create a description for a retail website of a product based on a technical fact sheet.\n",
    "\n",
    "Write a product description based on the information provided in the technical specifications delimited by triple backticks.\n",
    "\n",
    "Technical specifications: ```{fact_sheet_chair}```\n",
    "\"\"\"\n",
    "response = get_completion(prompt)\n",
    "print(response)"
   ]
  },
  {
   "cell_type": "markdown",
   "id": "bbb06023",
   "metadata": {},
   "source": [
    "## Issue 1: The text is too long\n",
    "- Limit the number of words/sentences/characters."
   ]
  },
  {
   "cell_type": "code",
   "execution_count": 9,
   "id": "4c7fc7a5",
   "metadata": {},
   "outputs": [
    {
     "name": "stdout",
     "output_type": "stream",
     "text": [
      "Introducing our mid-century inspired office chair, part of a beautiful furniture collection. With various color and finish options, it can be customized to suit any space. Choose between plastic or full upholstery in fabric or leather. The chair features a 5-wheel base and pneumatic adjustment for easy use. Made in Italy.\n"
     ]
    }
   ],
   "source": [
    "prompt = f\"\"\"\n",
    "Your task is to help a marketing team create a\n",
    "description for a retail website of a product based\n",
    "on a technical fact sheet.\n",
    "\n",
    "Write a product description based on the information\n",
    "provided in the technical specifications delimited by\n",
    "triple backticks.\n",
    "\n",
    "Use at most 50 words.\n",
    "\n",
    "Technical specifications: ```{fact_sheet_chair}```\n",
    "\"\"\"\n",
    "response = get_completion(prompt)\n",
    "print(response)"
   ]
  },
  {
   "cell_type": "code",
   "execution_count": 11,
   "id": "95b4959d",
   "metadata": {},
   "outputs": [
    {
     "data": {
      "text/plain": [
       "51"
      ]
     },
     "execution_count": 11,
     "metadata": {},
     "output_type": "execute_result"
    }
   ],
   "source": [
    "len(response.split(\" \"))"
   ]
  },
  {
   "cell_type": "markdown",
   "id": "7b2ddb4c",
   "metadata": {},
   "source": [
    "## Issue 2. Text focuses on the wrong details\n",
    "- Ask it to focus on the aspects that are relevant to the intended audience."
   ]
  },
  {
   "cell_type": "code",
   "execution_count": 12,
   "id": "145e0215",
   "metadata": {},
   "outputs": [
    {
     "name": "stdout",
     "output_type": "stream",
     "text": [
      "Introducing our mid-century inspired office chair, part of a beautiful furniture family. Constructed with a durable cast aluminum shell and a 5-wheel plastic coated aluminum base, this chair offers easy raise/lower action with its pneumatic chair adjust. Choose from a variety of shell colors, base finishes, and upholstery options. Suitable for both home and business settings, this chair is designed to elevate any workspace. Made in Italy.\n"
     ]
    }
   ],
   "source": [
    "prompt = f\"\"\"\n",
    "Your task is to help a marketing team create a\n",
    "description for a retail website of a product based\n",
    "on a technical fact sheet.\n",
    "\n",
    "Write a product description based on the information\n",
    "provided in the technical specifications delimited by\n",
    "triple backticks.\n",
    "\n",
    "The description is intended for furniture retailers, \n",
    "so should be technical in nature and focus on the \n",
    "materials the product is constructed from.\n",
    "\n",
    "Use at most 50 words.\n",
    "\n",
    "Technical specifications: ```{fact_sheet_chair}```\n",
    "\"\"\"\n",
    "response = get_completion(prompt)\n",
    "print(response)"
   ]
  },
  {
   "cell_type": "code",
   "execution_count": 32,
   "id": "7658ce5a",
   "metadata": {},
   "outputs": [
    {
     "name": "stdout",
     "output_type": "stream",
     "text": [
      "Introducing our stunning mid-century inspired office chair, perfect for both home and business settings. Constructed with a durable cast aluminum shell and a 5-wheel plastic coated aluminum base, this chair offers stability and mobility. Choose from a variety of shell colors and base finishes, and opt for plastic or full upholstery in fabric or leather. With adjustable height and optional armrests, this chair provides comfort and versatility. Made in Italy. Product ID: SWC-100, SWC-110.\n"
     ]
    },
    {
     "data": {
      "text/plain": [
       "74"
      ]
     },
     "execution_count": 32,
     "metadata": {},
     "output_type": "execute_result"
    }
   ],
   "source": [
    "prompt = f\"\"\"\n",
    "Your task is to help a marketing team create a\n",
    "description for a retail website of a product based\n",
    "on a technical fact sheet.\n",
    "\n",
    "Write a product description based on the information\n",
    "provided in the technical specifications delimited by\n",
    "triple backticks.\n",
    "\n",
    "The description is intended for furniture retailers, \n",
    "so should be technical in nature and focus on the \n",
    "materials the product is constructed from.\n",
    "\n",
    "At the end of the description include every 7-character \n",
    "Product ID in the technical specification.\n",
    "\n",
    "Use at most 50 words.\n",
    "\n",
    "Technical specifications: ```{fact_sheet_chair}```\n",
    "\"\"\"\n",
    "response = get_completion(prompt)\n",
    "print(response)\n",
    "len(response.split(\" \"))"
   ]
  },
  {
   "cell_type": "code",
   "execution_count": 33,
   "id": "8615c241",
   "metadata": {},
   "outputs": [
    {
     "name": "stdout",
     "output_type": "stream",
     "text": [
      "<div>\n",
      "  <h2>Product Description</h2>\n",
      "  <p>\n",
      "    The SWC-100 office chair is a stylish and versatile addition to any workspace. \n",
      "    With its mid-century inspired design, this chair is part of a beautiful family \n",
      "    of office furniture that includes filling cabinets, desks, bookcases, meeting \n",
      "    tables, and more. The chair is available in several options of shell color and \n",
      "    base finishes, allowing you to customize it to match your office decor. \n",
      "    It is also available with plastic back and front upholstery or full upholstery \n",
      "    in a variety of fabric and leather options. The chair is constructed with a \n",
      "    5-wheel plastic coated aluminum base, providing stability and mobility. \n",
      "    The pneumatic chair adjust allows for easy raise and lower action, ensuring \n",
      "    optimal comfort for users of all heights. Whether you need a chair for your \n",
      "    home office or a business setting, the SWC-100 is suitable for both. \n",
      "    It is also qualified for contract use, making it a reliable choice for \n",
      "    commercial spaces. Made in Italy, this chair is crafted with high-quality \n",
      "    materials to ensure durability and longevity. Upgrade your office with the \n",
      "    SWC-100 office chair and experience comfort and style like never before.\n",
      "  </p>\n",
      "  <h2>Product Dimensions</h2>\n",
      "  <table>\n",
      "    <tr>\n",
      "      <th>Dimension</th>\n",
      "      <th>Measurement (inches)</th>\n",
      "    </tr>\n",
      "    <tr>\n",
      "      <td>Width</td>\n",
      "      <td>20.87\"</td>\n",
      "    </tr>\n",
      "    <tr>\n",
      "      <td>Depth</td>\n",
      "      <td>20.08\"</td>\n",
      "    </tr>\n",
      "    <tr>\n",
      "      <td>Height</td>\n",
      "      <td>31.50\"</td>\n",
      "    </tr>\n",
      "    <tr>\n",
      "      <td>Seat Height</td>\n",
      "      <td>17.32\"</td>\n",
      "    </tr>\n",
      "    <tr>\n",
      "      <td>Seat Depth</td>\n",
      "      <td>16.14\"</td>\n",
      "    </tr>\n",
      "  </table>\n",
      "</div>\n",
      "\n",
      "Product ID: SWC-100\n"
     ]
    }
   ],
   "source": [
    "prompt = f\"\"\"\n",
    "Your task is to help a marketing team create a\n",
    "description for a retail website of a product based\n",
    "on a technical fact sheet.\n",
    "\n",
    "Write a product description based on the information\n",
    "provided in the technical specifications delimited by\n",
    "triple backticks.\n",
    "\n",
    "The description is intended for furniture retailers, \n",
    "so should be technical in nature and focus on the \n",
    "materials the product is constructed from.\n",
    "\n",
    "At the end of the description include every 7-character \n",
    "Product ID in the technical specification.\n",
    "\n",
    "After the description, include a table that gives the\n",
    "product's dimensions. The table should have two columns.\n",
    "In the first column include the name of the dimension.\n",
    "In the second column include the measurements in inches only.\n",
    "\n",
    "Give the table the title 'Product Dimensions'.\n",
    "\n",
    "Format everything as HTML that can be used in a website.\n",
    "Place the description in a <div> element.\n",
    "\n",
    "Use at most 50 words.\n",
    "\n",
    "Technical specifications: ```{fact_sheet_chair}```\n",
    "\"\"\"\n",
    "response = get_completion(prompt)\n",
    "print(response)\n"
   ]
  },
  {
   "cell_type": "code",
   "execution_count": 34,
   "id": "8b494f54",
   "metadata": {},
   "outputs": [],
   "source": [
    "from IPython.display import display, HTML"
   ]
  },
  {
   "cell_type": "code",
   "execution_count": 35,
   "id": "6118c13d",
   "metadata": {},
   "outputs": [
    {
     "data": {
      "text/html": [
       "<div>\n",
       "  <h2>Product Description</h2>\n",
       "  <p>\n",
       "    The SWC-100 office chair is a stylish and versatile addition to any workspace. \n",
       "    With its mid-century inspired design, this chair is part of a beautiful family \n",
       "    of office furniture that includes filling cabinets, desks, bookcases, meeting \n",
       "    tables, and more. The chair is available in several options of shell color and \n",
       "    base finishes, allowing you to customize it to match your office decor. \n",
       "    It is also available with plastic back and front upholstery or full upholstery \n",
       "    in a variety of fabric and leather options. The chair is constructed with a \n",
       "    5-wheel plastic coated aluminum base, providing stability and mobility. \n",
       "    The pneumatic chair adjust allows for easy raise and lower action, ensuring \n",
       "    optimal comfort for users of all heights. Whether you need a chair for your \n",
       "    home office or a business setting, the SWC-100 is suitable for both. \n",
       "    It is also qualified for contract use, making it a reliable choice for \n",
       "    commercial spaces. Made in Italy, this chair is crafted with high-quality \n",
       "    materials to ensure durability and longevity. Upgrade your office with the \n",
       "    SWC-100 office chair and experience comfort and style like never before.\n",
       "  </p>\n",
       "  <h2>Product Dimensions</h2>\n",
       "  <table>\n",
       "    <tr>\n",
       "      <th>Dimension</th>\n",
       "      <th>Measurement (inches)</th>\n",
       "    </tr>\n",
       "    <tr>\n",
       "      <td>Width</td>\n",
       "      <td>20.87\"</td>\n",
       "    </tr>\n",
       "    <tr>\n",
       "      <td>Depth</td>\n",
       "      <td>20.08\"</td>\n",
       "    </tr>\n",
       "    <tr>\n",
       "      <td>Height</td>\n",
       "      <td>31.50\"</td>\n",
       "    </tr>\n",
       "    <tr>\n",
       "      <td>Seat Height</td>\n",
       "      <td>17.32\"</td>\n",
       "    </tr>\n",
       "    <tr>\n",
       "      <td>Seat Depth</td>\n",
       "      <td>16.14\"</td>\n",
       "    </tr>\n",
       "  </table>\n",
       "</div>\n",
       "\n",
       "Product ID: SWC-100"
      ],
      "text/plain": [
       "<IPython.core.display.HTML object>"
      ]
     },
     "metadata": {},
     "output_type": "display_data"
    }
   ],
   "source": [
    "display(HTML(response))"
   ]
  }
 ],
 "metadata": {
  "kernelspec": {
   "display_name": "Python 3 (ipykernel)",
   "language": "python",
   "name": "python3"
  },
  "language_info": {
   "codemirror_mode": {
    "name": "ipython",
    "version": 3
   },
   "file_extension": ".py",
   "mimetype": "text/x-python",
   "name": "python",
   "nbconvert_exporter": "python",
   "pygments_lexer": "ipython3",
   "version": "3.10.11"
  }
 },
 "nbformat": 4,
 "nbformat_minor": 5
}
